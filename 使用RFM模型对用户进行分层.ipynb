{
 "cells": [
  {
   "cell_type": "markdown",
   "metadata": {},
   "source": [
    "# 使用 RFM 模型对用户进行分层\n",
    "\n",
    "> 完整代码与数据、结果：https://github.com/DarkestSky/SellingDataAnalysis\n",
    "\n",
    "## 1. 读取 csv 文件并进行初步处理"
   ]
  },
  {
   "cell_type": "code",
   "execution_count": 11,
   "metadata": {
    "scrolled": true
   },
   "outputs": [
    {
     "name": "stdout",
     "output_type": "stream",
     "text": [
      "<class 'pandas.core.frame.DataFrame'>\n",
      "RangeIndex: 541909 entries, 0 to 541908\n",
      "Data columns (total 6 columns):\n",
      " #   Column       Non-Null Count   Dtype         \n",
      "---  ------       --------------   -----         \n",
      " 0   CustomerID   406829 non-null  float64       \n",
      " 1   Quantity     541909 non-null  int64         \n",
      " 2   InvoiceDate  541909 non-null  datetime64[ns]\n",
      " 3   UnitPrice    541909 non-null  float64       \n",
      " 4   Total        541909 non-null  float64       \n",
      " 5   Month        541909 non-null  datetime64[ns]\n",
      "dtypes: datetime64[ns](2), float64(3), int64(1)\n",
      "memory usage: 24.8 MB\n",
      "None\n"
     ]
    }
   ],
   "source": [
    "import pandas as pd\n",
    "import numpy as np\n",
    "from datetime import datetime\n",
    "\n",
    "# 针对日期格式进行处理\n",
    "custom_date_parser = lambda x: datetime.strptime(x, \"%d-%m-%Y %H:%M\")\n",
    "\n",
    "# 打开文件并通过 pandas 读取\n",
    "path = r'./data/OnlineRetail.csv'\n",
    "f = open(path, 'r', encoding='utf-8')\n",
    "df = pd.read_csv(f, parse_dates=['InvoiceDate'], date_parser=custom_date_parser)\n",
    "\n",
    "# 计算各条记录中的消费总额\n",
    "df['Total'] = df['Quantity'] * df['UnitPrice']\n",
    "\n",
    "# 记录月份\n",
    "df['Month'] = df['InvoiceDate'].astype('datetime64[M]')\n",
    "\n",
    "print(df.info())"
   ]
  },
  {
   "cell_type": "markdown",
   "metadata": {},
   "source": [
    "## 2. 参考 RFM 模型进行分层\n",
    "首先是分层的标准，如下所示"
   ]
  },
  {
   "cell_type": "code",
   "execution_count": 12,
   "metadata": {
    "scrolled": true
   },
   "outputs": [],
   "source": [
    "def getRfmLable(x):\n",
    "    # 传入参数为与平均值比较后的结果\n",
    "    # 结果为正即记为 1\n",
    "    level = x.map(lambda _x: '1' if _x >= 0 else '0')\n",
    "    label = level.R + level.F + level.M\n",
    "    d = {\n",
    "        '111': u'重要价值客户',\n",
    "        '011': u'重要保持客户',\n",
    "        '101': u'重要挽留客户',\n",
    "        '001': u'重要发展客户',\n",
    "        '110': u'一般价值客户',\n",
    "        '010': u'一般保持客户',\n",
    "        '100': u'一般挽留客户',\n",
    "        '000': u'一般发展客户'\n",
    "    }\n",
    "    result = d[label]\n",
    "    return result"
   ]
  },
  {
   "cell_type": "markdown",
   "metadata": {},
   "source": [
    "基于此，进行分层"
   ]
  },
  {
   "cell_type": "code",
   "execution_count": 13,
   "metadata": {},
   "outputs": [
    {
     "name": "stdout",
     "output_type": "stream",
     "text": [
      "               F        M           R   Lable\n",
      "CustomerID                                   \n",
      "12346.0        0     0.00  325.106250  一般挽留客户\n",
      "12347.0     2458  4310.00    1.873611  重要保持客户\n",
      "12348.0     2341  1797.24   74.984028  一般保持客户\n",
      "12349.0      631  1757.55   18.124306  一般发展客户\n",
      "12350.0      197   334.40  309.867361  一般挽留客户\n",
      "...          ...      ...         ...     ...\n",
      "18280.0       45   180.60  277.123611  一般挽留客户\n",
      "18281.0       54    80.82  180.081250  一般挽留客户\n",
      "18282.0       98   176.60    7.046528  一般发展客户\n",
      "18283.0     1397  2094.88    3.033333  重要保持客户\n",
      "18287.0     1586  1837.28   42.139583  一般保持客户\n",
      "\n",
      "[4372 rows x 4 columns]\n"
     ]
    }
   ],
   "source": [
    "# 透视图\n",
    "rfm = df.pivot_table(index='CustomerID', aggfunc={'InvoiceDate': 'max', 'Quantity': 'sum', 'Total': 'sum'})\n",
    "\n",
    "# 计算最后一次消费距离最后一天的间隔，即为 R\n",
    "max_date = df['InvoiceDate'].max()\n",
    "rfm['R'] = -(df.groupby(by='CustomerID')['InvoiceDate'].max() - max_date) / np.timedelta64(1, 'D')\n",
    "\n",
    "# 调整表列\n",
    "rfm.drop(columns=['InvoiceDate'], inplace=True)\n",
    "rfm.rename(columns={'Quantity': 'F', 'Total': 'M'}, inplace=True)\n",
    "\n",
    "# 与平均值比较，生成分层标签\n",
    "rfm['Lable'] = rfm.apply(lambda x: x - x.mean()).apply(getRfmLable, axis=1)\n",
    "\n",
    "print(rfm)"
   ]
  },
  {
   "cell_type": "markdown",
   "metadata": {},
   "source": [
    "得到分层信息，完整结果保存在 csv 文件中。"
   ]
  }
 ],
 "metadata": {
  "kernelspec": {
   "display_name": "Python 3",
   "language": "python",
   "name": "python3"
  },
  "language_info": {
   "codemirror_mode": {
    "name": "ipython",
    "version": 3
   },
   "file_extension": ".py",
   "mimetype": "text/x-python",
   "name": "python",
   "nbconvert_exporter": "python",
   "pygments_lexer": "ipython3",
   "version": "3.8.5"
  },
  "widgets": {
   "application/vnd.jupyter.widget-state+json": {
    "state": {},
    "version_major": 2,
    "version_minor": 0
   }
  }
 },
 "nbformat": 4,
 "nbformat_minor": 4
}
